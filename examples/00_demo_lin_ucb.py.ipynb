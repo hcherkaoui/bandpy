{
 "cells": [
  {
   "cell_type": "markdown",
   "id": "95f915fc",
   "metadata": {},
   "source": [
    "'LinUCB' benchmark\n",
    "================="
   ]
  },
  {
   "cell_type": "code",
   "execution_count": 1,
   "id": "fd7ae628",
   "metadata": {},
   "outputs": [],
   "source": [
    "import matplotlib.pyplot as plt\n",
    "import numpy as np\n",
    "from bandpy import run_trials\n",
    "from bandpy.env import CanonicalLinearBandit\n",
    "from bandpy.controller import DecentralizedController\n",
    "from bandpy.agents import LinUCB\n",
    "from bandpy.utils import check_random_state"
   ]
  },
  {
   "cell_type": "markdown",
   "id": "3ca84ee0",
   "metadata": {},
   "source": [
    "Global variables\n",
    "-----------------------"
   ]
  },
  {
   "cell_type": "code",
   "execution_count": 2,
   "id": "76090930",
   "metadata": {},
   "outputs": [],
   "source": [
    "plt.style.use('tableau-colorblind10')\n",
    "N_AGENTS = 1  # single agent case only\n",
    "MAX_RANDINT = 10000\n",
    "n_trials = 200\n",
    "max_T = 50\n",
    "seed = None\n",
    "n_jobs = 7\n",
    "verbose = False"
   ]
  },
  {
   "cell_type": "markdown",
   "id": "c9e824db",
   "metadata": {},
   "source": [
    "Running the experiment\n",
    "----------------------------------"
   ]
  },
  {
   "cell_type": "code",
   "execution_count": 3,
   "id": "f2e33d86",
   "metadata": {},
   "outputs": [],
   "source": [
    "env = CanonicalLinearBandit(d=2, delta=0.0001,  T=max_T, seed=seed)\n",
    "controller = DecentralizedController(N=N_AGENTS, agent_cls=LinUCB, agent_kwargs={'arms': env.arms, 'alpha': 0.1})\n",
    "    \n",
    "rng = check_random_state(seed)\n",
    "seeds = rng.randint(MAX_RANDINT, size=n_trials)\n",
    "\n",
    "trial_results = run_trials(\n",
    "            env, controller, enable_controller_early_stopping=False,\n",
    "            seeds=seeds, n_jobs=n_jobs, verbose=verbose)\n",
    "\n",
    "regrets = []\n",
    "for trial_result in trial_results:\n",
    "    _, trial_regret, _ = trial_result\n",
    "    regrets.append(trial_regret)"
   ]
  },
  {
   "cell_type": "markdown",
   "id": "5635d93f",
   "metadata": {},
   "source": [
    "Plotting results\n",
    "----------------------"
   ]
  },
  {
   "cell_type": "code",
   "execution_count": 4,
   "id": "b3a495c6",
   "metadata": {},
   "outputs": [
    {
     "data": {
      "image/png": "[encoded data removed]",
      "text/plain": [
       "<Figure size 720x360 with 1 Axes>"
      ]
     },
     "metadata": {
      "needs_background": "light"
     },
     "output_type": "display_data"
    }
   ],
   "source": [
    "plt.figure(figsize=(10, 5))\n",
    "\n",
    "mean_regrets = np.mean(regrets, axis=0)\n",
    "std_regrets = np.std(regrets, axis=0)\n",
    "T = len(mean_regrets)\n",
    "\n",
    "plt.plot(np.arange(T), mean_regrets, lw=3.0)\n",
    "plt.fill_between(np.arange(T),\n",
    "                 mean_regrets + std_regrets / 2.0,\n",
    "                 mean_regrets - std_regrets / 2.0,\n",
    "                 alpha=0.3)\n",
    "\n",
    "plt.axhline(lw=2.0, color='black')\n",
    "plt.xlabel('t', fontsize=16)\n",
    "plt.grid()\n",
    "plt.title(\"Regret evolution\", fontsize=17)\n",
    "plt.tight_layout()\n",
    "plt.show()"
   ]
  },
  {
   "cell_type": "code",
   "execution_count": null,
   "id": "ff75b413",
   "metadata": {},
   "outputs": [],
   "source": []
  }
 ],
 "metadata": {
  "kernelspec": {
   "display_name": "Python 3 (ipykernel)",
   "language": "python",
   "name": "python3"
  },
  "language_info": {
   "codemirror_mode": {
    "name": "ipython",
    "version": 3
   },
   "file_extension": ".py",
   "mimetype": "text/x-python",
   "name": "python",
   "nbconvert_exporter": "python",
   "pygments_lexer": "ipython3",
   "version": "3.8.10"
  }
 },
 "nbformat": 4,
 "nbformat_minor": 5
}
