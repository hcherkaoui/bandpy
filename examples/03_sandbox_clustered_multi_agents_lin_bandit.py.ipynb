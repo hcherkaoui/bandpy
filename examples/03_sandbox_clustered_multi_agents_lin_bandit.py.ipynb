{
 "cells": [
  {
   "cell_type": "markdown",
   "id": "95f915fc",
   "metadata": {},
   "source": [
    "'Clustered multi-agents linear bandit'\n",
    "=============================="
   ]
  },
  {
   "cell_type": "code",
   "execution_count": 1,
   "id": "fd7ae628",
   "metadata": {},
   "outputs": [],
   "source": [
    "import matplotlib.pyplot as plt\n",
    "import numpy as np\n",
    "from sklearn import metrics\n",
    "from bandpy import run_trials\n",
    "from bandpy.env import ClustersCanonicalLinearBandit\n",
    "from bandpy.controller import ClusteredLinearAgentsController\n",
    "from bandpy.utils import check_random_state"
   ]
  },
  {
   "cell_type": "markdown",
   "id": "86e2b856",
   "metadata": {},
   "source": [
    "Global funtions\n",
    "----------------------"
   ]
  },
  {
   "cell_type": "code",
   "execution_count": 2,
   "id": "166cec2e",
   "metadata": {},
   "outputs": [],
   "source": [
    "def compute_errors(trial_results):\n",
    "    \"\"\"Compute the BAI-errors and the CLusetering-errors.\"\"\"\n",
    "    \n",
    "    Ts, errors_bai, errors_cluster = [], [], []\n",
    "    for trial_result in trial_results:\n",
    "\n",
    "        T, _, best_arms, controller, env = trial_result\n",
    "\n",
    "        err_bai, grp_labels, true_grp_labels = [], [], []\n",
    "        for agent_name, best_arm in best_arms.items():\n",
    "\n",
    "            # theta label and cluster group label are confounded\n",
    "            grp_label = controller.agent_labels[agent_name]\n",
    "            true_grp_label = env.theta_per_agent[agent_name]\n",
    "\n",
    "            # theta label and best arm index are confounded\n",
    "            err_bai_ = int(best_arm != env.theta_per_agent[agent_name])\n",
    "\n",
    "            err_bai.append(err_bai_)\n",
    "            grp_labels.append(grp_label)\n",
    "            true_grp_labels.append(true_grp_label)\n",
    "\n",
    "        Ts.append(T)\n",
    "        errors_bai.append(np.mean(err_bai))\n",
    "        errors_cluster.append(1.0 - metrics.rand_score(true_grp_labels, grp_labels))\n",
    "        \n",
    "    return np.array(Ts), np.array(errors_bai), np.array(errors_cluster)\n",
    "\n",
    "\n",
    "def plot_linear_bandit(arms, thetas, est_thetas):\n",
    "    \"\"\" Plot in 2D the arms/theta configuration.\"\"\"\n",
    "    \n",
    "    plt.figure(len(arms), figsize=(3, 3))\n",
    "    \n",
    "    origin = np.array([[0.0, 0.0], [0.0, 0.0]]) # origin point\n",
    "    \n",
    "    for arm in arms:\n",
    "        plt.quiver(*origin, arm[0], arm[1], angles='xy',\n",
    "                   scale_units='xy', scale=1, color='tab:blue')\n",
    "    for theta in thetas:\n",
    "        plt.quiver(*origin, theta[0], theta[1], angles='xy',\n",
    "                   scale_units='xy', scale=1, color='tab:red')\n",
    "    for est_theta in est_thetas:\n",
    "        plt.quiver(*origin, est_theta[0], est_theta[1], angles='xy',\n",
    "                   scale_units='xy', scale=1, color='tab:green')\n",
    "        \n",
    "    max_x = np.max(([np.abs(arm[0]) for arm in arms] +\n",
    "                    [np.abs(theta[0]) for theta in thetas] +\n",
    "                    [np.abs(est_theta[0]) for est_theta in est_thetas]))\n",
    "    max_y = np.max(([np.abs(arm[1]) for arm in arms] +\n",
    "                    [np.abs(theta[1]) for theta in thetas] +\n",
    "                    [np.abs(est_theta[1]) for est_theta in est_thetas]))\n",
    "    \n",
    "    plt.xlim(-max_x, max_x)\n",
    "    plt.ylim(-max_y, max_y)\n",
    "    plt.grid()\n",
    "    plt.title(f\"Linear bandit configuration (K={len(arms)})\")\n",
    "    plt.tight_layout()\n",
    "    \n",
    "    plt.show()"
   ]
  },
  {
   "cell_type": "markdown",
   "id": "3ca84ee0",
   "metadata": {},
   "source": [
    "Global variables\n",
    "-----------------------"
   ]
  },
  {
   "cell_type": "code",
   "execution_count": 3,
   "id": "76090930",
   "metadata": {},
   "outputs": [],
   "source": [
    "plt.style.use('tableau-colorblind10')  # I'm colorblind...\n",
    "N_CLUSTERS = 2  # number of clusters\n",
    "MAX_RANDINT = 10000  # max possible value to generate seeds\n",
    "n_agents = 30  # number of agent\n",
    "n_trials = 16 # average results on 'n_trials'\n",
    "max_T = 10000  # horizon\n",
    "seed = None  # seed to generate seeds\n",
    "n_jobs = 8  # number of CPUs\n",
    "verbose = False  # Bandpy verbose level"
   ]
  },
  {
   "cell_type": "markdown",
   "id": "c9e824db",
   "metadata": {},
   "source": [
    "Running the experiment\n",
    "----------------------------------"
   ]
  },
  {
   "cell_type": "code",
   "execution_count": 4,
   "id": "948b400b",
   "metadata": {},
   "outputs": [],
   "source": [
    "env = ClustersCanonicalLinearBandit(d=2, delta=0.01, T=max_T,\n",
    "                                    n_thetas=N_CLUSTERS,\n",
    "                                    sigma=1.0, seed=seed)\n",
    "agent_kwargs = {'arms': env.arms,\n",
    "                'epsilon': 0.0,\n",
    "                'delta': 0.001,\n",
    "                'R': 1.0,\n",
    "                'S': np.max([np.linalg.norm(theta) for theta in env.thetas]),\n",
    "                'lbda': 1.0}\n",
    "rng = check_random_state(seed)\n",
    "seeds = rng.randint(MAX_RANDINT, size=n_trials)"
   ]
  },
  {
   "cell_type": "code",
   "execution_count": null,
   "id": "189e5eec",
   "metadata": {},
   "outputs": [],
   "source": [
    "l_m = [1, 2, 3, 4, 5, 10, 30]\n",
    "exp_results = dict()\n",
    "for m in l_m:\n",
    "    # define controller and assign it to the env\n",
    "    controller = ClusteredLinearAgentsController(N=n_agents,\n",
    "                                                 n_clusters=N_CLUSTERS,\n",
    "                                                 m=m,\n",
    "                                                 agent_kwargs=agent_kwargs)    \n",
    "    env.assign_agent_models(list(controller.agents.keys()))\n",
    "    \n",
    "    # run trial\n",
    "    trial_results = run_trials(\n",
    "            env, controller, enable_controller_early_stopping=True,\n",
    "            seeds=seeds, n_jobs=n_jobs, verbose=verbose)\n",
    "    \n",
    "    # compute error\n",
    "    Ts, errors_bai, errors_cluster = compute_errors(trial_results)\n",
    "\n",
    "    Ts -= m\n",
    "    \n",
    "    print(f\"[m={m}] mean-T-BAI={np.mean(Ts):.0f}, \"\n",
    "          f\"mean-errors-bai={np.mean(errors_bai):.2f}, \"\n",
    "          f\"mean-errors-cluster={np.mean(errors_cluster):.2f}\")\n",
    "    \n",
    "    exp_results[m] = (Ts, errors_bai, errors_cluster)"
   ]
  },
  {
   "cell_type": "code",
   "execution_count": null,
   "id": "ac25cc66",
   "metadata": {},
   "outputs": [],
   "source": [
    "for m, results in exp_results.items():\n",
    "    \n",
    "    Ts, errors_bai, errors_cluster = results\n",
    "    \n",
    "    fig, axis = plt.subplots(nrows=1, ncols=2, figsize=(5, 2))\n",
    "    for i, name, err in zip([0, 1],\n",
    "                            [\"BAI error (%)\", \"Clustering error (%)\"],\n",
    "                            [errors_bai, errors_cluster]):\n",
    "        axis[i].scatter(Ts - m, 100. * np.array(err))\n",
    "        axis[i].grid()\n",
    "        axis[i].set_xlim(0, max_T)\n",
    "        axis[i].set_ylim(0.0, 100.)\n",
    "        axis[i].set_title(name, fontsize=11)\n",
    "    fig.suptitle(f\"m={m}\", fontsize=13)\n",
    "    fig.tight_layout()\n",
    "    fig.show()"
   ]
  },
  {
   "cell_type": "code",
   "execution_count": null,
   "id": "06ac09e3",
   "metadata": {},
   "outputs": [],
   "source": [
    "mean_T_bai = np.array([np.mean(exp_results[m][0] - m) for m in l_m])\n",
    "mean_err_bai = np.array([np.mean(exp_results[m][1]) for m in l_m])\n",
    "mean_err_grp = np.array([np.mean(exp_results[m][2]) for m in l_m])\n",
    "\n",
    "fig, axis = plt.subplots(nrows=1, ncols=3, figsize=(9, 3))\n",
    "\n",
    "for i, to_plot, name in zip([0, 1, 2],\n",
    "                            [mean_T_bai, mean_err_bai, mean_err_grp],\n",
    "                            [\"n-samples\", \"err-BAI\", \"err-cluster\"]):\n",
    "    axis[i].plot(l_m, to_plot, lw=2.0)\n",
    "    axis[i].grid()\n",
    "    axis[i].set_xlabel(\"m\", fontsize=12)\n",
    "    axis[i].set_title(name, fontsize=12)\n",
    "\n",
    "fig.tight_layout()\n",
    "\n",
    "fig.show()"
   ]
  },
  {
   "cell_type": "code",
   "execution_count": null,
   "id": "7ac25b18",
   "metadata": {},
   "outputs": [],
   "source": []
  }
 ],
 "metadata": {
  "kernelspec": {
   "display_name": "Python 3 (ipykernel)",
   "language": "python",
   "name": "python3"
  },
  "language_info": {
   "codemirror_mode": {
    "name": "ipython",
    "version": 3
   },
   "file_extension": ".py",
   "mimetype": "text/x-python",
   "name": "python",
   "nbconvert_exporter": "python",
   "pygments_lexer": "ipython3",
   "version": "3.8.10"
  }
 },
 "nbformat": 4,
 "nbformat_minor": 5
}
